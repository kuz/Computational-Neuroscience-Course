{
 "cells": [
  {
   "cell_type": "markdown",
   "metadata": {},
   "source": [
    "<h1><center>Computational Neuroscience</center></h1>"
   ]
  },
  {
   "cell_type": "markdown",
   "metadata": {},
   "source": [
    "<h1><center> Practice I: Structure of the Brain </center></h1>\n",
    "<center>Farid Hasanov, Marharyta Domnich, Kristjan Kaup, Raul Vicente</center>"
   ]
  },
  {
   "cell_type": "markdown",
   "metadata": {},
   "source": [
    "### Important:\n",
    "Make sure that you saved your ipynb file correctly to avoid loss of information. Please submit this **ipynb** file only (unless you have extra files then zip this file with the extra ones). Everything should be included in this file questions, answers, codes, plots, and comments about your solutions."
   ]
  },
  {
   "cell_type": "markdown",
   "metadata": {},
   "source": [
    "My **pseudonym** is : <font color='green'>[YOUR ANSWER]</font> and it took me approximately : <font color='green'>[YOUR ANSWER]</font> hours to complete the home work.\n",
    "\n",
    "The data of how long it took you to complete the home work will help us to improve the home works to be balanced."
   ]
  },
  {
   "cell_type": "markdown",
   "metadata": {},
   "source": [
    "***\n",
    "As you might have heard before, structure of the brain is extremely complex. There are lots\n",
    "of neurons next to each other, tangled with each other, forming one, almost gap-less mass. In\n",
    "pursuit of understanding any complex system, one thing you try to learn is its structure. Once\n",
    "you see the structure, you get insights about the purpose of the system. Same, hopefully, stands\n",
    "for our brain. Brain structure consist of neurons, their somas (cell bodies), dendrites (input\n",
    "channels), axons (output channels) and synapses (connection points)."
   ]
  },
  {
   "cell_type": "markdown",
   "metadata": {},
   "source": [
    "***\n",
    "### Exercice 1: Questionnaire (2 pts)"
   ]
  },
  {
   "cell_type": "markdown",
   "metadata": {},
   "source": [
    "**Q1-2:** Does size matter? What is the i) mass and ii) number of neurons in the the brains of the following animals: human, african elephant, horse, giraffe and ant."
   ]
  },
  {
   "cell_type": "markdown",
   "metadata": {},
   "source": [
    "<font color=green>Your Answer</font>"
   ]
  },
  {
   "cell_type": "markdown",
   "metadata": {},
   "source": [
    "**Q3:** How many synapses are there in the human brain?\n"
   ]
  },
  {
   "cell_type": "markdown",
   "metadata": {},
   "source": [
    "<font color=green>Your Answer</font>"
   ]
  },
  {
   "cell_type": "markdown",
   "metadata": {},
   "source": [
    "**Q4:** Compare the bottom-up (biologists) and top-down (engineers, computer scientist) approaches to studying the brain."
   ]
  },
  {
   "cell_type": "markdown",
   "metadata": {},
   "source": [
    "<font color=green>Your Answer</font>"
   ]
  },
  {
   "cell_type": "markdown",
   "metadata": {},
   "source": [
    "**Q5:** Scientific study of the brain has many branches. Describe in a few examples what are the following fields studying: i)Developmental Neuroscience \n",
    "ii)Clinical Neuroscience\n",
    "iii)Computational neuroscience."
   ]
  },
  {
   "cell_type": "markdown",
   "metadata": {},
   "source": [
    "<font color=green>Your Answer</font>"
   ]
  },
  {
   "cell_type": "markdown",
   "metadata": {},
   "source": [
    "**Q6:** Why did Golgi think the brain is not comprised of individual cells?"
   ]
  },
  {
   "cell_type": "markdown",
   "metadata": {},
   "source": [
    "<font color=green>Your Answer</font>"
   ]
  },
  {
   "cell_type": "markdown",
   "metadata": {},
   "source": [
    "**Q7:** Why did the nervous system evolve (what is the evolutionary advantage it provides)?"
   ]
  },
  {
   "cell_type": "markdown",
   "metadata": {},
   "source": [
    "<font color=green>Your Answer</font>"
   ]
  },
  {
   "cell_type": "markdown",
   "metadata": {},
   "source": [
    "**Q8:** Name 3 tasks at which computer is much better than human brain and 3 tasks where human brain outperforms any existing computer."
   ]
  },
  {
   "cell_type": "markdown",
   "metadata": {},
   "source": [
    "<font color=green>Your Answer</font>"
   ]
  },
  {
   "cell_type": "markdown",
   "metadata": {},
   "source": [
    "**Q9:** Describe the main function of the three main compartments of a neuron: soma, dendrite, axon."
   ]
  },
  {
   "cell_type": "markdown",
   "metadata": {},
   "source": [
    "<font color=green>Your Answer</font>"
   ]
  },
  {
   "cell_type": "markdown",
   "metadata": {},
   "source": [
    "**Q10:** Name two types of glial cells and their functions?"
   ]
  },
  {
   "cell_type": "markdown",
   "metadata": {},
   "source": [
    "<font color=green>Your Answer</font>"
   ]
  },
  {
   "cell_type": "markdown",
   "metadata": {},
   "source": [
    "**Q11:** What is gray matter and white matter?"
   ]
  },
  {
   "cell_type": "markdown",
   "metadata": {},
   "source": [
    "<font color=green>Your Answer</font>"
   ]
  },
  {
   "cell_type": "markdown",
   "metadata": {},
   "source": [
    "**Q12:** The Cerebrum is folded and convoluted to increase the surface area. If you would unfold it, \n",
    "how big would it be (surface area)?\n"
   ]
  },
  {
   "cell_type": "markdown",
   "metadata": {},
   "source": [
    "<font color=green>Your Answer</font>"
   ]
  },
  {
   "cell_type": "markdown",
   "metadata": {},
   "source": [
    "**Q13:** What types of sensors are are there in the skin ?"
   ]
  },
  {
   "cell_type": "markdown",
   "metadata": {},
   "source": [
    "<font color=green>Your Answer</font>"
   ]
  },
  {
   "cell_type": "markdown",
   "metadata": {},
   "source": [
    "**Q14:** If you were to flick a whale's tail, how long it will take for the signal to reach the whale's brain and some response to come back? How long would it take if there was no myelin around the axons? \n"
   ]
  },
  {
   "cell_type": "markdown",
   "metadata": {},
   "source": [
    "<font color=green>Your Answer</font>"
   ]
  },
  {
   "cell_type": "markdown",
   "metadata": {},
   "source": [
    "**Q15:** What is a neurotransmitter?"
   ]
  },
  {
   "cell_type": "markdown",
   "metadata": {},
   "source": [
    "<font color=green>Your Answer</font>"
   ]
  },
  {
   "cell_type": "markdown",
   "metadata": {},
   "source": [
    "**Q16:** Describe the sequence of actions (ion channels opening and closing) during the generation of an action potential.\n"
   ]
  },
  {
   "cell_type": "markdown",
   "metadata": {},
   "source": [
    "***\n",
    "## Exercise 2: Body mass vs. brain mass (1 pt)"
   ]
  },
  {
   "cell_type": "markdown",
   "metadata": {},
   "source": [
    "In the course of evolution as organisms developed additional organs and functions the system\n",
    "responsible for controlling these functions had to increase as well. In this exercise we will check\n",
    "if it is true that larger animals have larger brain. In the data folder you will find data file\n",
    "bodybrain.csv. It has two columns: the first one is the mass of the animal in kilograms, the\n",
    "second is the mass of its brain in grams."
   ]
  },
  {
   "cell_type": "markdown",
   "metadata": {},
   "source": [
    "1) Load the data"
   ]
  },
  {
   "cell_type": "code",
   "execution_count": null,
   "metadata": {},
   "outputs": [],
   "source": [
    "import matplotlib.pyplot as plt\n",
    "import pandas as pd\n",
    "import numpy as np\n",
    "%matplotlib notebook\n",
    "\n",
    "################################\n",
    "##### YOUR CODE STARTS HERE ####\n",
    "#Hint: You can use panda\n",
    "\n",
    "\n",
    "##### YOUR CODE ENDS HERE  #####\n",
    "################################"
   ]
  },
  {
   "cell_type": "markdown",
   "metadata": {},
   "source": [
    "2) Create a scatter plot where body mass is on X axis and brain mass on the Y axis (label\n",
    "the axes accordingly."
   ]
  },
  {
   "cell_type": "code",
   "execution_count": null,
   "metadata": {},
   "outputs": [],
   "source": [
    "################################\n",
    "##### YOUR CODE STARTS HERE ####\n",
    "\n",
    "\n",
    "\n",
    "##### YOUR CODE ENDS HERE  #####\n",
    "################################\n",
    "plt.show()"
   ]
  },
  {
   "cell_type": "markdown",
   "metadata": {},
   "source": [
    "3) As you will see the picture is not very interesting, but try plotting in a logarithmic scale\n",
    "(use log function)."
   ]
  },
  {
   "cell_type": "code",
   "execution_count": null,
   "metadata": {},
   "outputs": [],
   "source": [
    "################################\n",
    "##### YOUR CODE STARTS HERE ####\n",
    "\n",
    "\n",
    "\n",
    "##### YOUR CODE ENDS HERE  #####\n",
    "################################\n",
    "plt.show()"
   ]
  },
  {
   "cell_type": "markdown",
   "metadata": {},
   "source": [
    "4) What is the relation between the two masses?. **Hint:** [log-log-plot](https://en.wikipedia.org/wiki/Log%E2%80%93log_plot)"
   ]
  },
  {
   "cell_type": "markdown",
   "metadata": {},
   "source": [
    "<font color=green>Your Answer</font>"
   ]
  },
  {
   "cell_type": "markdown",
   "metadata": {},
   "source": [
    "***\n",
    "## Exercise 3: Types of neurons (1.5 pts)\n"
   ]
  },
  {
   "cell_type": "markdown",
   "metadata": {},
   "source": [
    "There are lots of different types of neurons in our nervous system. They have different size,\n",
    "structure and function. Let us have a look at some of them:\n",
    "\n",
    "\n",
    "| Pyramidal cell in layer 2 or 3 | Purkinje cell | Spindle neuron | Amacrine cell |\n",
    "|---|---|---|---|\n",
    "| <img src=\"imgs/pyramidal2.png\" alt=\"Drawing\" style=\"width: 316px;\"/> | <img src=\"imgs/purkinje.png\" alt=\"Drawing\" style=\"width: 315px;\"/> | <img src=\"imgs/spindle.png\" alt=\"Drawing\" style=\"width: 315px;\"/> | <img src=\"imgs/amacrine.png\" alt=\"Drawing\" style=\"width: 315px;\"/> |\n",
    "\n",
    "| Pyramidal cell in 5 | Basket cell | Sensory neuron |\n",
    "|:-:|:-:|:-:|\n",
    "| <img src=\"imgs/pyramidal5.png\" alt=\"Drawing\" style=\"width: 316px;\"/> | <img src=\"imgs/bascet.png\" alt=\"Drawing\" style=\"width: 315px;\"/> | <img src=\"imgs/sensory.png\" alt=\"Drawing\" style=\"width: 315px;\"/> |"
   ]
  },
  {
   "cell_type": "markdown",
   "metadata": {},
   "source": [
    "In the data folder of this assignment you will find three .swc files. Each file describes reconstructed\n",
    "structure of a neuron. A neuron can be characterized by different parameters, such as\n",
    "size, bifurcations (branching points), size of soma, etc. In general the task of identifying the\n",
    "type of a neuron is quite hard [1](https://www.sciencedirect.com/science/article/pii/S0165017307000768).\n",
    "\n",
    "Nevertheless, in some cases, different types of neurons have distinguishable shapes. This is what\n",
    "we will try to use in this exercise. Your task is to plot neurons from the data files and guess\n",
    "which of the above-mentioned types each of them belongs to."
   ]
  },
  {
   "cell_type": "markdown",
   "metadata": {},
   "source": [
    "1) Have a look inside an .swc file. Each line describes small piece of the neuron (compartment),\n",
    "the values in the columns are:  \n",
    "+ ID of the compartment  \n",
    "+ Type of the compartment:  \n",
    "    - 0 – undefined  \n",
    "    - 1 – soma  \n",
    "    - 2 – axon  \n",
    "    - 3 – basal dendrite  \n",
    "    - 4 – apical dendrite    \n",
    "+ X coordinate (in m)\n",
    "+ Y coordinate  \n",
    "+ Z coordinate  \n",
    "+ Radius of the compartment  \n",
    "+ ID of parent compartment (-1 for root compartment)  \n"
   ]
  },
  {
   "cell_type": "markdown",
   "metadata": {},
   "source": [
    "2) Import the 3 coordinates of all compartments."
   ]
  },
  {
   "cell_type": "code",
   "execution_count": null,
   "metadata": {},
   "outputs": [],
   "source": [
    "################################\n",
    "##### YOUR CODE STARTS HERE ####\n",
    "\n",
    "\n",
    "\n",
    "##### YOUR CODE ENDS HERE  #####\n",
    "################################"
   ]
  },
  {
   "cell_type": "markdown",
   "metadata": {},
   "source": [
    "3) Plot the data in 3D (all 3 neurons). Hint for matplotlib users:[2](https://matplotlib.org/mpl_examples/mplot3d/scatter3d_demo.py)."
   ]
  },
  {
   "cell_type": "code",
   "execution_count": null,
   "metadata": {},
   "outputs": [],
   "source": [
    "# this allows you to see a 3d plot in the notebook\n",
    "%matplotlib notebook\n",
    "################################\n",
    "##### YOUR CODE STARTS HERE ####\n",
    "\n",
    "\n",
    "\n",
    "##### YOUR CODE ENDS HERE  #####\n",
    "################################"
   ]
  },
  {
   "cell_type": "markdown",
   "metadata": {},
   "source": [
    "4) Look at the resulting 3D image an try to find the type of the neurons.\n"
   ]
  },
  {
   "cell_type": "markdown",
   "metadata": {},
   "source": [
    "<font color=green>Your Answer</font>"
   ]
  },
  {
   "cell_type": "markdown",
   "metadata": {},
   "source": [
    "5)(Optional) If you are not sure about the neuron type based on the scatter plot, feel free to\n",
    "draw lines between connected compartments (each compartment is connected to its parent\n",
    "compartment, so you need to draw a line segment for each parent-child pair)."
   ]
  },
  {
   "cell_type": "code",
   "execution_count": null,
   "metadata": {},
   "outputs": [],
   "source": [
    "################################\n",
    "##### YOUR CODE STARTS HERE ####\n",
    "\n",
    "\n",
    "\n",
    "##### YOUR CODE ENDS HERE  #####\n",
    "################################"
   ]
  },
  {
   "cell_type": "markdown",
   "metadata": {},
   "source": [
    "***\n",
    "## Exercise 4: Brain lesions (1 pt)"
   ]
  },
  {
   "cell_type": "markdown",
   "metadata": {},
   "source": [
    "Brain lesions are abnormalities in the structure of the brain, usually due to damage after accidents,\n",
    "strokes etc. Some lesions lead to interesting effects, that give us information about the\n",
    "functional role of the damaged region - if after damage to some region you cannot see any more,\n",
    "then probably that area was crucial for vision.\n",
    "Read about brain lesions and their possible consequences. "
   ]
  },
  {
   "cell_type": "markdown",
   "metadata": {},
   "source": [
    "Google up one lesion, which has surprising or informative (about function) consequences, and:"
   ]
  },
  {
   "cell_type": "markdown",
   "metadata": {},
   "source": [
    "1) Describe the nature of the lesion, its its characteristics, e.g. is it temporal or permanent, describe the consequences and speculate on how the effect is related to the functional role of that region  (at least 150 word). Remember you need a specific lesion, not general tumor. if you want to describe a tumor then select a specific regio "
   ]
  },
  {
   "cell_type": "markdown",
   "metadata": {},
   "source": [
    "<font color=green>Your Answer</font>"
   ]
  },
  {
   "cell_type": "markdown",
   "metadata": {},
   "source": [
    "2) Find a picture of the structure that is damaged, altered or disturbed. "
   ]
  },
  {
   "cell_type": "markdown",
   "metadata": {},
   "source": [
    "<font color=green>Edit-> insert image  or weblink to the image</font> "
   ]
  },
  {
   "cell_type": "markdown",
   "metadata": {},
   "source": [
    " Alternatively, you can describe an interesting transcranial magnetic stimulation (TMS) study."
   ]
  },
  {
   "cell_type": "markdown",
   "metadata": {},
   "source": [
    "<font color=green>Your Answer</font>"
   ]
  }
 ],
 "metadata": {
  "kernelspec": {
   "display_name": "Python 3",
   "language": "python",
   "name": "python3"
  },
  "language_info": {
   "codemirror_mode": {
    "name": "ipython",
    "version": 3
   },
   "file_extension": ".py",
   "mimetype": "text/x-python",
   "name": "python",
   "nbconvert_exporter": "python",
   "pygments_lexer": "ipython3",
   "version": "3.8.5"
  }
 },
 "nbformat": 4,
 "nbformat_minor": 2
}
